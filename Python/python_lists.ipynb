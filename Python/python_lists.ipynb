{
 "cells": [
  {
   "cell_type": "markdown",
   "metadata": {},
   "source": [
    "#### **List**\n",
    "\n",
    "A list in Python is an ordered, mutable collection that can store elements of different data types, including numbers, strings, and other lists. Lists are defined using square brackets [] and support operations like indexing, slicing, appending, and iterating."
   ]
  },
  {
   "cell_type": "code",
   "execution_count": 2,
   "metadata": {},
   "outputs": [
    {
     "name": "stdout",
     "output_type": "stream",
     "text": [
      "[1, 'hello', 3.14, [2, 3]]\n",
      "hello\n"
     ]
    }
   ],
   "source": [
    "my_list = [1, \"hello\", 3.14, [2, 3]]  # List with mixed data types\n",
    "print(my_list) # print whole list\n",
    "print(my_list[1])  # Output: \"hello\""
   ]
  },
  {
   "cell_type": "code",
   "execution_count": 4,
   "metadata": {},
   "outputs": [
    {
     "name": "stdout",
     "output_type": "stream",
     "text": [
      "specialized\n",
      "redline\n"
     ]
    }
   ],
   "source": [
    "# -1 index in Python always returns the last item in the list:\n",
    "\n",
    "bicycles = ['trek', 'cannondale', 'redline', 'specialized']\n",
    "print(bicycles[-1])\n",
    "\n",
    "# similarlly, -2 returns the second item from the end of the list\n",
    "print(bicycles[-2])"
   ]
  },
  {
   "cell_type": "markdown",
   "metadata": {},
   "source": [
    "#### **Adding and Removing Elements in a List in Python**"
   ]
  },
  {
   "cell_type": "code",
   "execution_count": 8,
   "metadata": {},
   "outputs": [
    {
     "name": "stdout",
     "output_type": "stream",
     "text": [
      "['apple', 'banana', 'cherry']\n",
      "['apple', 'mango', 'banana', 'cherry']\n",
      "['apple', 'mango', 'banana', 'cherry', 'grape', 'orange']\n"
     ]
    }
   ],
   "source": [
    "# Adding Elements to a List\n",
    "\n",
    "# 1. append() - Adds an element at the end\n",
    "fruits = [\"apple\", \"banana\"]\n",
    "fruits.append(\"cherry\")\n",
    "print(fruits)  # Output: ['apple', 'banana', 'cherry']\n",
    "\n",
    "# 2. insert() - Adds an element at a specific index\n",
    "fruits.insert(1, \"mango\")\n",
    "print(fruits)  # Output: ['apple', 'mango', 'banana', 'cherry']\n",
    "\n",
    "# 3. extend() - Adds multiple elements\n",
    "fruits.extend([\"grape\", \"orange\"])\n",
    "print(fruits)  # Output: ['apple', 'mango', 'banana', 'cherry', 'grape', 'orange']"
   ]
  },
  {
   "cell_type": "code",
   "execution_count": 9,
   "metadata": {},
   "outputs": [
    {
     "name": "stdout",
     "output_type": "stream",
     "text": [
      "['apple', 'mango', 'cherry', 'grape', 'orange']\n",
      "orange\n",
      "['apple', 'mango', 'cherry', 'grape']\n",
      "['apple', 'cherry', 'grape']\n",
      "[]\n"
     ]
    }
   ],
   "source": [
    "# Removing Elements from a List\n",
    "# remove() - Removes the first occurrence of an element, raises an error if not found.\n",
    "fruits.remove(\"banana\")\n",
    "print(fruits)  # Output: ['apple', 'mango', 'cherry', 'grape', 'orange']\n",
    "\n",
    "# pop() - Removes and returns an element by index (default is last)\n",
    "last_item = fruits.pop()  \n",
    "print(last_item)  # Output: 'orange'\n",
    "print(fruits)  # Output: ['apple', 'mango', 'cherry', 'grape']\n",
    "\n",
    "# del - Deletes an element by index or the entire list if no index is provided\n",
    "del fruits[1]\n",
    "print(fruits)  # Output: ['apple', 'cherry', 'grape'] \n",
    "\n",
    "# clear() - Removes all elements from the list\n",
    "fruits.clear()\n",
    "print(fruits)  # Output: []"
   ]
  },
  {
   "cell_type": "markdown",
   "metadata": {},
   "source": [
    "#### **Organizing the List**"
   ]
  },
  {
   "cell_type": "code",
   "execution_count": null,
   "metadata": {},
   "outputs": [
    {
     "name": "stdout",
     "output_type": "stream",
     "text": [
      "['Bmw', 'audi', 'bmw', 'subaru', 'toyota']\n"
     ]
    }
   ],
   "source": [
    "# Sorting\n",
    "\n",
    "# 1. sort() method changes the order in alphabetical order permanently\n",
    "cars = ['bmw', 'audi', 'Bmw', 'toyota', 'subaru']\n",
    "cars.sort() # use reverse=True flag to sort in descending order\n",
    "print(cars) "
   ]
  },
  {
   "cell_type": "code",
   "execution_count": null,
   "metadata": {},
   "outputs": [],
   "source": []
  }
 ],
 "metadata": {
  "kernelspec": {
   "display_name": "Python 3",
   "language": "python",
   "name": "python3"
  },
  "language_info": {
   "codemirror_mode": {
    "name": "ipython",
    "version": 3
   },
   "file_extension": ".py",
   "mimetype": "text/x-python",
   "name": "python",
   "nbconvert_exporter": "python",
   "pygments_lexer": "ipython3",
   "version": "3.12.1"
  }
 },
 "nbformat": 4,
 "nbformat_minor": 2
}
